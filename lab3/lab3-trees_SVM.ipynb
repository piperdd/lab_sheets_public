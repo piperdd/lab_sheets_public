{
  "cells": [
    {
      "cell_type": "markdown",
      "metadata": {
        "id": "XFA-L9QH9Zx3"
      },
      "source": [
        "# Lab 3: Trees and SVMs\n"
      ]
    },
    {
      "cell_type": "markdown",
      "metadata": {
        "id": "NtfuISvX9Zx7"
      },
      "source": [
        "This lab uses the Python package [`graphviz`](https://pypi.org/project/graphviz). If you are using your own machine and using conda for installation do: `conda install conda-forge::python-graphviz`"
      ]
    },
    {
      "cell_type": "code",
      "execution_count": 1,
      "metadata": {
        "id": "PO4c7kMK9Zx8"
      },
      "outputs": [],
      "source": [
        "%matplotlib inline\n",
        "\n",
        "import numpy as np\n",
        "import matplotlib.pyplot as plt\n",
        "import sklearn\n",
        "from sklearn import datasets\n",
        "from sklearn.model_selection import train_test_split\n",
        "from sklearn.datasets import fetch_openml\n",
        "\n",
        "from sklearn.tree import DecisionTreeClassifier\n",
        "from sklearn.metrics import accuracy_score\n",
        "\n",
        "import graphviz"
      ]
    },
    {
      "cell_type": "markdown",
      "metadata": {
        "id": "qWU0gvsp9Zx9"
      },
      "source": [
        "## 1) Decision Trees\n",
        "\n",
        "Decision trees are a very simple machine learning technique that can be surprisingly powerful and offer a much more easily interpretable decision making process than many other methods. As the name suggests, decision trees are comprised of a set of nodes in a tree structure. All non-terminal nodes are called *decision nodes* which typically have two child nodes and contain a conditional expression involving a single feature of the input data. For a given input, starting at the root node, this condition is evaluated and this determines which of the two child nodes are selected for evaluation next. Once a *leaf node* is reached, the decision tree is able to produce an output class (classification) or a target value (regression). In this lab we will focus on the case of classification tasks.\n",
        "\n",
        "For a given dataset of input-output pairs, there are a number of ways to construct a decision tree that can accurately classify the set of examples. We will be using the implementation of decision trees from the scikit-learn library which uses the CART (Classification And Regression Tree) algorithm with (by default) the Gini impurity criterion (see [this](https://victorzhou.com/blog/gini-impurity/) for simple explanation of Gini impurity). The CART algorithm can be summarised as follows:\n",
        "1. **Obtaining the root node**: Test the possible splits of the dataset using conditions involving each of the input features and measure the Gini impurity of each split. The root node is given by the split that minimises the weighted sum of the Gini impurities of the two branches. The weights are equal to the number of data points that satisfy the condition of the corresponding branch.\n",
        "2. **Creating the remaining decision nodes**: Iteratively follow the same process as step 1 using only the data points that match the conditions necessary to reach this point in the tree.\n",
        "3. **Creating the leaf nodes**: These nodes are created when one of the stopping criteria is met. This set of criteria includes the case where all points of each class have been completely separated by a split (i.e. when the impurity is 0) or when some maximum depth has been reached.\n",
        "4. **Pruning**: The tree can then be 'pruned' back to a smaller tree in an attempt to prevent overfitting. The degree of pruning can be selected using either a validation set or cross-validation. Note however that the scikit-learn method `DecisionTreeClassifier.fit` by default does **no** pruning (but you can turn pruning on by setting `ccp_alpha` to a positive value)."
      ]
    },
    {
      "cell_type": "markdown",
      "metadata": {
        "id": "0JRb6w3A9Zx-"
      },
      "source": [
        "### 1.1) Training a Decision Tree Classifier\n",
        "\n",
        "To start off, we will load in a classification dataset from scikit-learn: [the famous iris flower dataset](https://scikit-learn.org/stable/auto_examples/datasets/plot_iris_dataset.html#sphx-glr-auto-examples-datasets-plot-iris-dataset-py), compiled by Ronald Fisher in 1936. This is often used as a toy dataset for machine learning and contains three classes (species of Iris) with a number of named features such as petal length and width. The code below loads in the iris dataset but also includes the code to load in several other datasets that you can test your decision tree or ensemble methods on. These are commented out for now but you may wish to explore them later."
      ]
    },
    {
      "cell_type": "code",
      "execution_count": 37,
      "metadata": {
        "id": "p60wWSx59Zx-"
      },
      "outputs": [],
      "source": [
        "dataset = datasets.load_iris()\n",
        "#dataset = datasets.load_wine()\n",
        "#dataset = datasets.load_digits()\n",
        "\n",
        "X = np.array(dataset['data'])\n",
        "X_feature_names = dataset['feature_names']\n",
        "y = np.array(dataset['target'])\n",
        "y_target_names = dataset['target_names']\n",
        "\n",
        "# 60% training, 20% dev and 20% test\n",
        "X_train, X_test, y_train, y_test = train_test_split(X, y, test_size=0.2, random_state=8)\n",
        "X_train, X_validation, y_train, y_validation = train_test_split(X_train, y_train, test_size = 0.25, random_state=8)"
      ]
    },
    {
      "cell_type": "markdown",
      "metadata": {
        "id": "FileKZ8z9Zx_"
      },
      "source": [
        "### 1.1) Training a Decision Tree Classifier\n",
        "\n",
        "Use scikit-learn to train a [DecisionTreeClassifier](https://scikit-learn.org/stable/modules/generated/sklearn.tree.DecisionTreeClassifier.html#sklearn.tree.DecisionTreeClassifier), (with no pruning) assigning it the variable name `model`, on the Iris dataset and compute its accuracy score on both the training and test set."
      ]
    },
    {
      "cell_type": "code",
      "execution_count": 38,
      "metadata": {
        "colab": {
          "base_uri": "https://localhost:8080/"
        },
        "id": "KznsTdXC9Zx_",
        "outputId": "0427decb-e751-4287-d672-143f6d6a2fcf"
      },
      "outputs": [
        {
          "output_type": "stream",
          "name": "stdout",
          "text": [
            "training score: 1.0\n",
            "testing score 0.9333333333333333\n"
          ]
        }
      ],
      "source": [
        "# write your code here\n",
        "model = DecisionTreeClassifier().fit(X_train, y_train)\n",
        "\n",
        "trainingDataScore = model.score(X_train, y_train)\n",
        "testDataScore = model.score(X_test, y_test)\n",
        "\n",
        "print(\"training score:\", trainingDataScore)\n",
        "print(\"testing score\", testDataScore)"
      ]
    },
    {
      "cell_type": "markdown",
      "metadata": {
        "id": "VGf6k8ge9Zx_"
      },
      "source": [
        "Is the model overfitting to the training data?"
      ]
    },
    {
      "cell_type": "code",
      "source": [
        "from sklearn.metrics import confusion_matrix\n",
        "from sklearn.metrics import ConfusionMatrixDisplay\n",
        "\n",
        "y_pred = model.predict(X_test)\n",
        "\n",
        "cm = confusion_matrix(y_test.flatten(), y_pred)\n",
        "disp = ConfusionMatrixDisplay(confusion_matrix=cm)\n",
        "disp.plot(cmap=\"Blues\")\n",
        "plt.show()"
      ],
      "metadata": {
        "colab": {
          "base_uri": "https://localhost:8080/",
          "height": 455
        },
        "id": "0mzluHMwITv8",
        "outputId": "225e2343-d887-4b1c-cde6-aa528e01f3e9"
      },
      "execution_count": 39,
      "outputs": [
        {
          "output_type": "display_data",
          "data": {
            "text/plain": [
              "<Figure size 640x480 with 2 Axes>"
            ],
            "image/png": "[encoded data removed]"
          },
          "metadata": {}
        }
      ]
    },
    {
      "cell_type": "markdown",
      "metadata": {
        "id": "z3vlzyto9ZyA"
      },
      "source": [
        "### 1.2) Visualise the tree\n",
        "\n",
        "The code below has been provided to create a visualisation for your decision tree. This cell will also print out a number of examples from the test set along with your tree's predictions to help you understand how the classification is being made. Run the cell and try to answer the questions that follow."
      ]
    },
    {
      "cell_type": "code",
      "execution_count": 30,
      "metadata": {
        "colab": {
          "base_uri": "https://localhost:8080/",
          "height": 1000
        },
        "id": "o0QfpNRH9ZyB",
        "outputId": "522133c1-005e-4d3d-b3c2-3c823cc6756a"
      },
      "outputs": [
        {
          "output_type": "display_data",
          "data": {
            "image/svg+xml": "<?xml version=\"1.0\" encoding=\"UTF-8\" standalone=\"no\"?>\n<!DOCTYPE svg PUBLIC \"-//W3C//DTD SVG 1.1//EN\"\n \"http://www.w3.org/Graphics/SVG/1.1/DTD/svg11.dtd\">\n<!-- Generated by graphviz version 2.43.0 (0)\n -->\n<!-- Title: Tree Pages: 1 -->\n<svg width=\"437pt\" height=\"552pt\"\n viewBox=\"0.00 0.00 437.00 552.00\" xmlns=\"http://www.w3.org/2000/svg\" xmlns:xlink=\"http://www.w3.org/1999/xlink\">\n<g id=\"graph0\" class=\"graph\" transform=\"scale(1 1) rotate(0) translate(4 548)\">\n<title>Tree</title>\n<polygon fill=\"white\" stroke=\"transparent\" points=\"-4,4 -4,-548 433,-548 433,4 -4,4\"/>\n<!-- 0 -->\n<g id=\"node1\" class=\"node\">\n<title>0</title>\n<path fill=\"#f8fefb\" stroke=\"black\" d=\"M207.5,-544C207.5,-544 65.5,-544 65.5,-544 59.5,-544 53.5,-538 53.5,-532 53.5,-532 53.5,-473 53.5,-473 53.5,-467 59.5,-461 65.5,-461 65.5,-461 207.5,-461 207.5,-461 213.5,-461 219.5,-467 219.5,-473 219.5,-473 219.5,-532 219.5,-532 219.5,-538 213.5,-544 207.5,-544\"/>\n<text text-anchor=\"start\" x=\"71.5\" y=\"-528.8\" font-family=\"Helvetica,sans-Serif\" font-size=\"14.00\">petal width (cm) ≤ 0.8</text>\n<text text-anchor=\"start\" x=\"101\" y=\"-513.8\" font-family=\"Helvetica,sans-Serif\" font-size=\"14.00\">gini = 0.663</text>\n<text text-anchor=\"start\" x=\"95.5\" y=\"-498.8\" font-family=\"Helvetica,sans-Serif\" font-size=\"14.00\">samples = 90</text>\n<text text-anchor=\"start\" x=\"61.5\" y=\"-483.8\" font-family=\"Helvetica,sans-Serif\" font-size=\"14.00\">value = [31.0, 33.0, 26.0]</text>\n<text text-anchor=\"start\" x=\"84\" y=\"-468.8\" font-family=\"Helvetica,sans-Serif\" font-size=\"14.00\">class = versicolor</text>\n</g>\n<!-- 1 -->\n<g id=\"node2\" class=\"node\">\n<title>1</title>\n<path fill=\"#e58139\" stroke=\"black\" d=\"M105,-417.5C105,-417.5 12,-417.5 12,-417.5 6,-417.5 0,-411.5 0,-405.5 0,-405.5 0,-361.5 0,-361.5 0,-355.5 6,-349.5 12,-349.5 12,-349.5 105,-349.5 105,-349.5 111,-349.5 117,-355.5 117,-361.5 117,-361.5 117,-405.5 117,-405.5 117,-411.5 111,-417.5 105,-417.5\"/>\n<text text-anchor=\"start\" x=\"30.5\" y=\"-402.3\" font-family=\"Helvetica,sans-Serif\" font-size=\"14.00\">gini = 0.0</text>\n<text text-anchor=\"start\" x=\"17.5\" y=\"-387.3\" font-family=\"Helvetica,sans-Serif\" font-size=\"14.00\">samples = 31</text>\n<text text-anchor=\"start\" x=\"8\" y=\"-372.3\" font-family=\"Helvetica,sans-Serif\" font-size=\"14.00\">value = [31, 0, 0]</text>\n<text text-anchor=\"start\" x=\"15\" y=\"-357.3\" font-family=\"Helvetica,sans-Serif\" font-size=\"14.00\">class = setosa</text>\n</g>\n<!-- 0&#45;&gt;1 -->\n<g id=\"edge1\" class=\"edge\">\n<title>0&#45;&gt;1</title>\n<path fill=\"none\" stroke=\"black\" d=\"M109.44,-460.91C101.93,-449.65 93.78,-437.42 86.24,-426.11\"/>\n<polygon fill=\"black\" stroke=\"black\" points=\"89.07,-424.05 80.61,-417.67 83.25,-427.93 89.07,-424.05\"/>\n<text text-anchor=\"middle\" x=\"75.71\" y=\"-438.48\" font-family=\"Helvetica,sans-Serif\" font-size=\"14.00\">True</text>\n</g>\n<!-- 2 -->\n<g id=\"node3\" class=\"node\">\n<title>2</title>\n<path fill=\"#d5f9e4\" stroke=\"black\" d=\"M282,-425C282,-425 147,-425 147,-425 141,-425 135,-419 135,-413 135,-413 135,-354 135,-354 135,-348 141,-342 147,-342 147,-342 282,-342 282,-342 288,-342 294,-348 294,-354 294,-354 294,-413 294,-413 294,-419 288,-425 282,-425\"/>\n<text text-anchor=\"start\" x=\"143\" y=\"-409.8\" font-family=\"Helvetica,sans-Serif\" font-size=\"14.00\">petal length (cm) ≤ 4.85</text>\n<text text-anchor=\"start\" x=\"179\" y=\"-394.8\" font-family=\"Helvetica,sans-Serif\" font-size=\"14.00\">gini = 0.493</text>\n<text text-anchor=\"start\" x=\"173.5\" y=\"-379.8\" font-family=\"Helvetica,sans-Serif\" font-size=\"14.00\">samples = 59</text>\n<text text-anchor=\"start\" x=\"160\" y=\"-364.8\" font-family=\"Helvetica,sans-Serif\" font-size=\"14.00\">value = [0, 33, 26]</text>\n<text text-anchor=\"start\" x=\"162\" y=\"-349.8\" font-family=\"Helvetica,sans-Serif\" font-size=\"14.00\">class = versicolor</text>\n</g>\n<!-- 0&#45;&gt;2 -->\n<g id=\"edge2\" class=\"edge\">\n<title>0&#45;&gt;2</title>\n<path fill=\"none\" stroke=\"black\" d=\"M163.56,-460.91C169.43,-452.1 175.7,-442.7 181.76,-433.61\"/>\n<polygon fill=\"black\" stroke=\"black\" points=\"184.85,-435.28 187.49,-425.02 179.03,-431.4 184.85,-435.28\"/>\n<text text-anchor=\"middle\" x=\"192.39\" y=\"-445.84\" font-family=\"Helvetica,sans-Serif\" font-size=\"14.00\">False</text>\n</g>\n<!-- 3 -->\n<g id=\"node4\" class=\"node\">\n<title>3</title>\n<path fill=\"#39e581\" stroke=\"black\" d=\"M184,-298.5C184,-298.5 87,-298.5 87,-298.5 81,-298.5 75,-292.5 75,-286.5 75,-286.5 75,-242.5 75,-242.5 75,-236.5 81,-230.5 87,-230.5 87,-230.5 184,-230.5 184,-230.5 190,-230.5 196,-236.5 196,-242.5 196,-242.5 196,-286.5 196,-286.5 196,-292.5 190,-298.5 184,-298.5\"/>\n<text text-anchor=\"start\" x=\"107.5\" y=\"-283.3\" font-family=\"Helvetica,sans-Serif\" font-size=\"14.00\">gini = 0.0</text>\n<text text-anchor=\"start\" x=\"94.5\" y=\"-268.3\" font-family=\"Helvetica,sans-Serif\" font-size=\"14.00\">samples = 32</text>\n<text text-anchor=\"start\" x=\"85\" y=\"-253.3\" font-family=\"Helvetica,sans-Serif\" font-size=\"14.00\">value = [0, 32, 0]</text>\n<text text-anchor=\"start\" x=\"83\" y=\"-238.3\" font-family=\"Helvetica,sans-Serif\" font-size=\"14.00\">class = versicolor</text>\n</g>\n<!-- 2&#45;&gt;3 -->\n<g id=\"edge3\" class=\"edge\">\n<title>2&#45;&gt;3</title>\n<path fill=\"none\" stroke=\"black\" d=\"M187.09,-341.91C179.49,-330.65 171.23,-318.42 163.59,-307.11\"/>\n<polygon fill=\"black\" stroke=\"black\" points=\"166.39,-305 157.89,-298.67 160.59,-308.91 166.39,-305\"/>\n</g>\n<!-- 4 -->\n<g id=\"node5\" class=\"node\">\n<title>4</title>\n<path fill=\"#8641e6\" stroke=\"black\" d=\"M359,-306C359,-306 226,-306 226,-306 220,-306 214,-300 214,-294 214,-294 214,-235 214,-235 214,-229 220,-223 226,-223 226,-223 359,-223 359,-223 365,-223 371,-229 371,-235 371,-235 371,-294 371,-294 371,-300 365,-306 359,-306\"/>\n<text text-anchor=\"start\" x=\"222\" y=\"-290.8\" font-family=\"Helvetica,sans-Serif\" font-size=\"14.00\">sepal width (cm) ≤ 2.55</text>\n<text text-anchor=\"start\" x=\"257\" y=\"-275.8\" font-family=\"Helvetica,sans-Serif\" font-size=\"14.00\">gini = 0.071</text>\n<text text-anchor=\"start\" x=\"251.5\" y=\"-260.8\" font-family=\"Helvetica,sans-Serif\" font-size=\"14.00\">samples = 27</text>\n<text text-anchor=\"start\" x=\"242\" y=\"-245.8\" font-family=\"Helvetica,sans-Serif\" font-size=\"14.00\">value = [0, 1, 26]</text>\n<text text-anchor=\"start\" x=\"244\" y=\"-230.8\" font-family=\"Helvetica,sans-Serif\" font-size=\"14.00\">class = virginica</text>\n</g>\n<!-- 2&#45;&gt;4 -->\n<g id=\"edge4\" class=\"edge\">\n<title>2&#45;&gt;4</title>\n<path fill=\"none\" stroke=\"black\" d=\"M241.56,-341.91C247.43,-333.1 253.7,-323.7 259.76,-314.61\"/>\n<polygon fill=\"black\" stroke=\"black\" points=\"262.85,-316.28 265.49,-306.02 257.03,-312.4 262.85,-316.28\"/>\n</g>\n<!-- 5 -->\n<g id=\"node6\" class=\"node\">\n<title>5</title>\n<path fill=\"#ffffff\" stroke=\"black\" d=\"M282,-187C282,-187 147,-187 147,-187 141,-187 135,-181 135,-175 135,-175 135,-116 135,-116 135,-110 141,-104 147,-104 147,-104 282,-104 282,-104 288,-104 294,-110 294,-116 294,-116 294,-175 294,-175 294,-181 288,-187 282,-187\"/>\n<text text-anchor=\"start\" x=\"143\" y=\"-171.8\" font-family=\"Helvetica,sans-Serif\" font-size=\"14.00\">petal length (cm) ≤ 4.95</text>\n<text text-anchor=\"start\" x=\"186.5\" y=\"-156.8\" font-family=\"Helvetica,sans-Serif\" font-size=\"14.00\">gini = 0.5</text>\n<text text-anchor=\"start\" x=\"177\" y=\"-141.8\" font-family=\"Helvetica,sans-Serif\" font-size=\"14.00\">samples = 2</text>\n<text text-anchor=\"start\" x=\"167.5\" y=\"-126.8\" font-family=\"Helvetica,sans-Serif\" font-size=\"14.00\">value = [0, 1, 1]</text>\n<text text-anchor=\"start\" x=\"162\" y=\"-111.8\" font-family=\"Helvetica,sans-Serif\" font-size=\"14.00\">class = versicolor</text>\n</g>\n<!-- 4&#45;&gt;5 -->\n<g id=\"edge5\" class=\"edge\">\n<title>4&#45;&gt;5</title>\n<path fill=\"none\" stroke=\"black\" d=\"M265.44,-222.91C259.57,-214.1 253.3,-204.7 247.24,-195.61\"/>\n<polygon fill=\"black\" stroke=\"black\" points=\"249.97,-193.4 241.51,-187.02 244.15,-197.28 249.97,-193.4\"/>\n</g>\n<!-- 8 -->\n<g id=\"node9\" class=\"node\">\n<title>8</title>\n<path fill=\"#8139e5\" stroke=\"black\" d=\"M417,-179.5C417,-179.5 324,-179.5 324,-179.5 318,-179.5 312,-173.5 312,-167.5 312,-167.5 312,-123.5 312,-123.5 312,-117.5 318,-111.5 324,-111.5 324,-111.5 417,-111.5 417,-111.5 423,-111.5 429,-117.5 429,-123.5 429,-123.5 429,-167.5 429,-167.5 429,-173.5 423,-179.5 417,-179.5\"/>\n<text text-anchor=\"start\" x=\"342.5\" y=\"-164.3\" font-family=\"Helvetica,sans-Serif\" font-size=\"14.00\">gini = 0.0</text>\n<text text-anchor=\"start\" x=\"329.5\" y=\"-149.3\" font-family=\"Helvetica,sans-Serif\" font-size=\"14.00\">samples = 25</text>\n<text text-anchor=\"start\" x=\"320\" y=\"-134.3\" font-family=\"Helvetica,sans-Serif\" font-size=\"14.00\">value = [0, 0, 25]</text>\n<text text-anchor=\"start\" x=\"322\" y=\"-119.3\" font-family=\"Helvetica,sans-Serif\" font-size=\"14.00\">class = virginica</text>\n</g>\n<!-- 4&#45;&gt;8 -->\n<g id=\"edge8\" class=\"edge\">\n<title>4&#45;&gt;8</title>\n<path fill=\"none\" stroke=\"black\" d=\"M319.56,-222.91C327.07,-211.65 335.22,-199.42 342.76,-188.11\"/>\n<polygon fill=\"black\" stroke=\"black\" points=\"345.75,-189.93 348.39,-179.67 339.93,-186.05 345.75,-189.93\"/>\n</g>\n<!-- 6 -->\n<g id=\"node7\" class=\"node\">\n<title>6</title>\n<path fill=\"#39e581\" stroke=\"black\" d=\"M196,-68C196,-68 99,-68 99,-68 93,-68 87,-62 87,-56 87,-56 87,-12 87,-12 87,-6 93,0 99,0 99,0 196,0 196,0 202,0 208,-6 208,-12 208,-12 208,-56 208,-56 208,-62 202,-68 196,-68\"/>\n<text text-anchor=\"start\" x=\"119.5\" y=\"-52.8\" font-family=\"Helvetica,sans-Serif\" font-size=\"14.00\">gini = 0.0</text>\n<text text-anchor=\"start\" x=\"110\" y=\"-37.8\" font-family=\"Helvetica,sans-Serif\" font-size=\"14.00\">samples = 1</text>\n<text text-anchor=\"start\" x=\"100.5\" y=\"-22.8\" font-family=\"Helvetica,sans-Serif\" font-size=\"14.00\">value = [0, 1, 0]</text>\n<text text-anchor=\"start\" x=\"95\" y=\"-7.8\" font-family=\"Helvetica,sans-Serif\" font-size=\"14.00\">class = versicolor</text>\n</g>\n<!-- 5&#45;&gt;6 -->\n<g id=\"edge6\" class=\"edge\">\n<title>5&#45;&gt;6</title>\n<path fill=\"none\" stroke=\"black\" d=\"M189.55,-103.73C184.19,-94.97 178.52,-85.7 173.14,-76.91\"/>\n<polygon fill=\"black\" stroke=\"black\" points=\"176.08,-75 167.88,-68.3 170.11,-78.66 176.08,-75\"/>\n</g>\n<!-- 7 -->\n<g id=\"node8\" class=\"node\">\n<title>7</title>\n<path fill=\"#8139e5\" stroke=\"black\" d=\"M327,-68C327,-68 238,-68 238,-68 232,-68 226,-62 226,-56 226,-56 226,-12 226,-12 226,-6 232,0 238,0 238,0 327,0 327,0 333,0 339,-6 339,-12 339,-12 339,-56 339,-56 339,-62 333,-68 327,-68\"/>\n<text text-anchor=\"start\" x=\"254.5\" y=\"-52.8\" font-family=\"Helvetica,sans-Serif\" font-size=\"14.00\">gini = 0.0</text>\n<text text-anchor=\"start\" x=\"245\" y=\"-37.8\" font-family=\"Helvetica,sans-Serif\" font-size=\"14.00\">samples = 1</text>\n<text text-anchor=\"start\" x=\"235.5\" y=\"-22.8\" font-family=\"Helvetica,sans-Serif\" font-size=\"14.00\">value = [0, 0, 1]</text>\n<text text-anchor=\"start\" x=\"234\" y=\"-7.8\" font-family=\"Helvetica,sans-Serif\" font-size=\"14.00\">class = virginica</text>\n</g>\n<!-- 5&#45;&gt;7 -->\n<g id=\"edge7\" class=\"edge\">\n<title>5&#45;&gt;7</title>\n<path fill=\"none\" stroke=\"black\" d=\"M239.82,-103.73C245.26,-94.97 251.01,-85.7 256.48,-76.91\"/>\n<polygon fill=\"black\" stroke=\"black\" points=\"259.52,-78.64 261.82,-68.3 253.57,-74.95 259.52,-78.64\"/>\n</g>\n</g>\n</svg>\n",
            "text/plain": [
              "<graphviz.sources.Source at 0x7d840a557740>"
            ]
          },
          "metadata": {}
        },
        {
          "output_type": "stream",
          "name": "stdout",
          "text": [
            "sepal length (cm) | sepal width (cm)  | petal length (cm) | petal width (cm)  | Label             | Prediction\n",
            "--------------------------------------------------------------------------------------------------------------\n",
            "5.0               | 3.6               | 1.4               | 0.2               | setosa            | setosa\n",
            "4.7               | 3.2               | 1.6               | 0.2               | setosa            | setosa\n",
            "5.2               | 3.5               | 1.5               | 0.2               | setosa            | setosa\n",
            "6.9               | 3.1               | 5.1               | 2.3               | virginica         | virginica\n",
            "6.7               | 3.1               | 4.4               | 1.4               | versicolor        | versicolor\n",
            "4.9               | 3.1               | 1.5               | 0.2               | setosa            | setosa\n",
            "5.1               | 3.3               | 1.7               | 0.5               | setosa            | setosa\n",
            "6.7               | 3.0               | 5.2               | 2.3               | virginica         | virginica\n",
            "6.4               | 2.8               | 5.6               | 2.2               | virginica         | virginica\n",
            "6.4               | 2.9               | 4.3               | 1.3               | versicolor        | versicolor\n",
            "6.3               | 3.3               | 4.7               | 1.6               | versicolor        | versicolor\n",
            "4.8               | 3.1               | 1.6               | 0.2               | setosa            | setosa\n",
            "4.9               | 2.5               | 4.5               | 1.7               | virginica         | versicolor\n",
            "7.0               | 3.2               | 4.7               | 1.4               | versicolor        | versicolor\n",
            "6.0               | 2.2               | 5.0               | 1.5               | virginica         | virginica\n"
          ]
        }
      ],
      "source": [
        "# Visualise the Decision Tree\n",
        "dot_data = sklearn.tree.export_graphviz(model, out_file=None, feature_names=X_feature_names, class_names=y_target_names, filled=True, rounded=True, special_characters=True)\n",
        "graph = graphviz.Source(dot_data)\n",
        "graph.render(\"iris\")\n",
        "display(graph)\n",
        "\n",
        "# Print examples from the test dataset\n",
        "wdth = max([len(name) for name in X_feature_names] + [len(lab) for lab in y_target_names]) + 1\n",
        "print('| '.join([f'{X_feature_names[i]: <{wdth}}' for i in range(len(X_feature_names))] + [f'{\"Label\":<{wdth}}', \"Prediction\"]))\n",
        "print('-'*110)\n",
        "predicted_labels = model.predict(X_test)\n",
        "num_examples = 15\n",
        "for example, label, predicted_label in zip(X_test[:num_examples], y_test[:num_examples], predicted_labels[:num_examples]):\n",
        "    print('| '.join([f'{example[i]: <{wdth}}' for i in range(len(example))] + [f'{y_target_names[label]: <{wdth}}', f'{y_target_names[predicted_label]}']))"
      ]
    },
    {
      "cell_type": "markdown",
      "metadata": {
        "id": "ERXfqwfl9ZyC"
      },
      "source": [
        "Try to answer the following questions for your tree (note that taking the left path from a decision node corresponds to the condition in that node being true):\n",
        "1. What features are most informative for identifying the Iris Setosa species and what values must they have?\n",
        "- petal width < 0.8\n",
        "\n",
        "2. What features can be used to discriminate between Iris Virginica and Iris Versicolor if the petals are longer than 4.75cm (hint: look at the paths through the decision tree from root to leaf)?\n",
        "- sepal width and petal length\n",
        "\n",
        "3. Choose one of the examples from the data set and follow the path that would be taken by the decision tree to produce a classification.\n",
        "\n",
        "4. If we had more training data, which decision nodes do you think are most likely to change (hint: look at numbers of samples)?\n",
        "- the most bottom node, due to low sample size\n",
        "\n",
        "5. Which decision nodes do you think may lead to the most errors if we deploy this model on a new test dataset?\n",
        "- same as above.\n"
      ]
    },
    {
      "cell_type": "markdown",
      "metadata": {
        "id": "-w6gWygi9ZyC"
      },
      "source": [
        "### 1.3) Train a decision tree for MNIST\n",
        "\n",
        "For the iris dataset, we saw that our classifier was able to perform extremely well because of the dataset's simplicity. In this section, we will try to apply a decision tree to a more challenging dataset, the MNIST handwritten digits (as seen in week 5)."
      ]
    },
    {
      "cell_type": "code",
      "execution_count": 40,
      "metadata": {
        "id": "tpZiCJEm9ZyC"
      },
      "outputs": [],
      "source": [
        "# load the MNIST data\n",
        "X_mnist, y_mnist = fetch_openml(name='mnist_784',return_X_y=True, as_frame=False)\n",
        "frac_of_dataset = 0.5\n",
        "index = int(frac_of_dataset*X_mnist.shape[0])\n",
        "X_train, X_test, y_train, y_test = train_test_split(X_mnist[:index,:], y_mnist[:index], test_size=0.2, random_state=5)"
      ]
    },
    {
      "cell_type": "markdown",
      "metadata": {
        "id": "GKSyaSh39ZyC"
      },
      "source": [
        "Just like you did before, create and train a decision tree using scikit-learn and using the variable name `model`."
      ]
    },
    {
      "cell_type": "code",
      "execution_count": 51,
      "metadata": {
        "id": "x4iXfDQF9ZyD"
      },
      "outputs": [],
      "source": [
        "# write your code here\n",
        "model = DecisionTreeClassifier(ccp_alpha=0.0000).fit(X_train, y_train)\n",
        "\n",
        "\n"
      ]
    },
    {
      "cell_type": "markdown",
      "metadata": {
        "id": "ftWqcbej9ZyD"
      },
      "source": [
        "### 1.4) Compute the model's accuracy on MNIST train and test sets\n",
        "\n",
        "Compare the performance on train and test sets."
      ]
    },
    {
      "cell_type": "code",
      "execution_count": 62,
      "metadata": {
        "colab": {
          "base_uri": "https://localhost:8080/"
        },
        "id": "rUVibHvW9ZyD",
        "outputId": "f06fba82-ca73-4e1d-aa21-664b0dd52553"
      },
      "outputs": [
        {
          "output_type": "stream",
          "name": "stdout",
          "text": [
            "training score: 0.9487142857142857\n",
            "testing score1 0.8527142857142858\n",
            "testing score2 0.8527142857142858\n"
          ]
        }
      ],
      "source": [
        "# write your code here\n",
        "\n",
        "model = DecisionTreeClassifier(ccp_alpha=0.0001).fit(X_train, y_train)\n",
        "\n",
        "trainingDataScore = model.score(X_train, y_train)\n",
        "testDataScore1 = model.score(X_test, y_test)\n",
        "\n",
        "y_pred = model.predict(X_test)\n",
        "testDataScore2 = accuracy_score(y_test, y_pred)\n",
        "\n",
        "\n",
        "print(\"training score:\", trainingDataScore)\n",
        "print(\"testing score1\", testDataScore1)\n",
        "print(\"testing score2\", testDataScore2)"
      ]
    },
    {
      "cell_type": "markdown",
      "metadata": {
        "id": "fUOPxQY79ZyE"
      },
      "source": [
        "Is the model overfitting on the MNIST data? What happens if you set the pruning parameter `ccp_alpha` to, say, a high positive value?"
      ]
    },
    {
      "cell_type": "markdown",
      "metadata": {
        "id": "hjahOJjG9ZyE"
      },
      "source": [
        "## 2) Support vector machines (SVM)"
      ]
    },
    {
      "cell_type": "code",
      "execution_count": 57,
      "metadata": {
        "id": "Wn80y1xg9ZyE"
      },
      "outputs": [],
      "source": [
        "from sklearn.linear_model import LogisticRegression\n",
        "from sklearn.svm import SVC\n",
        "from sklearn.neural_network import MLPClassifier\n",
        "from sklearn.datasets import make_moons\n",
        "from matplotlib.colors import ListedColormap"
      ]
    },
    {
      "cell_type": "markdown",
      "metadata": {
        "id": "Bb90LWVx9ZyE"
      },
      "source": [
        "In a parametric appoach a fixed number parameters are learned using training data which is then discarded and the learnt model used to make prediction on new data. In this section we implement support vector machines, a nonparametric model where the number of parameters are not fixed in advanced but grow with the amount of data.\n",
        "\n",
        "A support vector machine constructs a hyper-plane to separate classes by maximising the distance (or margin) to the nearest training data points of any class. The figure below shows the decision boundary for linearly separable data, with three instances on the margin boundaries, called “support vectors”.\n",
        "\n",
        "<img src=\"https://github.com/piperdd/lab_sheets_public/blob/main/lab3/images/svm.png?raw=1\" style=\"width:450px;height:300px;\">\n",
        "\n",
        "<caption><center> <u>Figure 4</u>: SVM decision boundary, margin and support vectors.</center></caption>\n",
        "\n",
        "For data that is not linearly separable, SVM classification involves quadratic programming optimisation to maximise the margin while incurring a penalty for each sample within the margin or a misclassification. The penalty strength is controlled by the hyperparameter `C`, a regularisation parameter that scales inversely.\n",
        "\n",
        "SVMs can perform non-linear classification using the kernel trick. The kernel function maps the non-linear data into a feature space in which the linear model is fit. But SVMs do this without ever constructing a new data set in feature space.\n",
        "\n",
        "For more information on SVMs, see Bishop section 7.1.\n",
        "\n",
        "The exercise for SVM classification involves a toy dataset generated in the cell below:"
      ]
    },
    {
      "cell_type": "code",
      "execution_count": 59,
      "metadata": {
        "colab": {
          "base_uri": "https://localhost:8080/",
          "height": 470
        },
        "id": "hzgihb_U9ZyF",
        "outputId": "d380d10f-a0fc-49c2-d12d-af8fce38923a"
      },
      "outputs": [
        {
          "output_type": "display_data",
          "data": {
            "text/plain": [
              "<Figure size 700x500 with 1 Axes>"
            ],
            "image/png": "[encoded data removed]"
          },
          "metadata": {}
        }
      ],
      "source": [
        "np.random.seed(0)\n",
        "N = 100\n",
        "x1 = np.linspace(-4,3.5,N).reshape(-1,1) + np.random.normal(0,0.2,N).reshape(-1,1)\n",
        "y1 = np.exp(0.6*x1) - 1 + np.random.normal(0,1.5,N).reshape(-1,1)\n",
        "x2 = np.random.normal(-1, 1.5, N).reshape(-1,1)\n",
        "y2 = np.random.normal(4, 1.5, N).reshape(-1,1)\n",
        "\n",
        "fig, ax = plt.subplots(figsize=(7, 5))\n",
        "ax.scatter(x1,y1)\n",
        "ax.scatter(x2,y2)\n",
        "ax.set_xlim([-5,4])\n",
        "ax.set_ylim([-2,7])\n",
        "ax.set_xlabel('X')\n",
        "ax.set_ylabel('y')\n",
        "plt.show()"
      ]
    },
    {
      "cell_type": "markdown",
      "metadata": {
        "id": "Q7x7I0BK9ZyF"
      },
      "source": [
        "### Logistic regression classifier\n",
        "A logistic regression classifier has been implemented on the toy dataset below, clearly not suitable for the non-linear data."
      ]
    },
    {
      "cell_type": "code",
      "execution_count": 60,
      "metadata": {
        "colab": {
          "base_uri": "https://localhost:8080/",
          "height": 488
        },
        "id": "QLoqd2z99ZyF",
        "outputId": "6b4d6edf-7115-4de5-8c48-5cce3d5a0091"
      },
      "outputs": [
        {
          "output_type": "stream",
          "name": "stdout",
          "text": [
            "Logistic regression classifier accuracy: 0.82\n"
          ]
        },
        {
          "output_type": "display_data",
          "data": {
            "text/plain": [
              "<Figure size 700x500 with 1 Axes>"
            ],
            "image/png": "[encoded data removed]"
          },
          "metadata": {}
        }
      ],
      "source": [
        "X = np.concatenate((np.concatenate((x1,x2)), np.concatenate((y1,y2))), axis=1)\n",
        "Y = np.concatenate((np.zeros(N),np.ones(N)))\n",
        "# blue = 0, orange = 1\n",
        "\n",
        "def plot_clf(clf):\n",
        "    h = 0.01\n",
        "    xx, yy = np.meshgrid(np.arange(-5, 4, h), np.arange(-2, 7, h))\n",
        "    Z = clf.predict(np.c_[xx.ravel(), yy.ravel()])\n",
        "    Z = Z.reshape(xx.shape)\n",
        "    fig, ax = plt.subplots(figsize=(7, 5))\n",
        "    ax.pcolormesh(xx, yy, Z, cmap=plt.cm.Paired, shading='auto')\n",
        "    ax.scatter(x1,y1)\n",
        "    ax.scatter(x2,y2)\n",
        "    ax.set_xlim([-5,4])\n",
        "    ax.set_ylim([-2,7])\n",
        "    ax.set_xlabel('X')\n",
        "    ax.set_ylabel('y')\n",
        "\n",
        "logreg = LogisticRegression(solver='lbfgs')\n",
        "logreg.fit(X, Y)\n",
        "print(f'Logistic regression classifier accuracy: {logreg.score(X, Y)}')\n",
        "plot_clf(logreg)\n",
        "plt.show()"
      ]
    },
    {
      "cell_type": "markdown",
      "metadata": {
        "id": "aJos-hDL9ZyG"
      },
      "source": [
        "### 2.1) SVM classifier\n",
        "Implement a SVM classifier using scikit-learn [SVC](https://scikit-learn.org/stable/modules/generated/sklearn.svm.SVC.html#sklearn.svm.SVC) and the `plot_clf` function defined in the previous cell.\n",
        "\n",
        "Experiment with the hyperparameter `C` considering overfitting and generalisation. How would you tune `C`?"
      ]
    },
    {
      "cell_type": "code",
      "execution_count": null,
      "metadata": {
        "id": "IpvG8LIN9ZyG"
      },
      "outputs": [],
      "source": [
        "# write your code here\n",
        "svc = SVC()"
      ]
    },
    {
      "cell_type": "markdown",
      "metadata": {
        "id": "IVvYR33N9ZyH"
      },
      "source": [
        "## 3) Classifier comparison\n",
        "We are now going to compare the classifiers introduced above on a toy dataset plotted below."
      ]
    },
    {
      "cell_type": "code",
      "execution_count": null,
      "metadata": {
        "id": "D_n6eBnU9ZyH"
      },
      "outputs": [],
      "source": [
        "X, y = make_moons(noise=0.3, random_state=0)\n",
        "\n",
        "fig, ax = plt.subplots(figsize=(6, 4))\n",
        "# Plot the points\n",
        "cm_bright = ListedColormap(['#FF0000', '#0000FF'])\n",
        "ax.scatter(X[:, 0], X[:, 1], c=y, cmap=cm_bright, edgecolors='k')\n",
        "ax.set_title(\"Input data\")\n",
        "plt.show()"
      ]
    },
    {
      "cell_type": "markdown",
      "metadata": {
        "id": "gg5Tv6du9ZyI"
      },
      "source": [
        "The task is to train 4 classifiers on the dataset and compare the respective decision boundaries using a [contour](https://matplotlib.org/3.1.1/api/_as_gen/matplotlib.pyplot.contourf.html) plot, as shown below in figure 5.\n",
        "\n",
        "<img src=\"https://github.com/piperdd/lab_sheets_public/blob/main/lab3/images/contour.png?raw=1\" style=\"width:800px;height:200px;\">\n",
        "\n",
        "<caption><center> <u>Figure 5</u>: Example contour plot.</center></caption>"
      ]
    },
    {
      "cell_type": "code",
      "execution_count": null,
      "metadata": {
        "id": "d8a1xFPK9ZyI"
      },
      "outputs": [],
      "source": [
        "names = [\"Logistic Regression\", \"Neural Net\", \"Linear SVM\", \"RBF SVM\"]\n",
        "\n",
        "classifiers = [\n",
        "    LogisticRegression(C=1e5),\n",
        "    MLPClassifier(alpha=1, max_iter=1000),\n",
        "    SVC(kernel=\"linear\", C=0.025),\n",
        "    SVC(gamma=2, C=1)]\n",
        "\n",
        "# create meshgrid\n",
        "x_min, x_max = X[:, 0].min() - .5, X[:, 0].max() + .5\n",
        "y_min, y_max = X[:, 1].min() - .5, X[:, 1].max() + .5\n",
        "h = .02  # step size in the mesh\n",
        "xx, yy = np.meshgrid(np.arange(x_min, x_max, h), np.arange(y_min, y_max, h))\n",
        "\n",
        "# colour map (contourf cmap parameter)\n",
        "cm = plt.cm.RdBu\n",
        "\n",
        "def Z_mesh(clf):\n",
        "    # Plot the decision boundary. For that, we will assign a color to each\n",
        "    # point in the mesh [x_min, x_max]x[y_min, y_max].\n",
        "    if hasattr(clf, \"decision_function\"):\n",
        "        Z = clf.decision_function(np.c_[xx.ravel(), yy.ravel()])\n",
        "    else:\n",
        "        Z = clf.predict_proba(np.c_[xx.ravel(), yy.ravel()])[:, 1]\n",
        "    return Z.reshape(xx.shape)"
      ]
    },
    {
      "cell_type": "markdown",
      "metadata": {
        "id": "9znsXFlu9ZyI"
      },
      "source": [
        "The classifiers, with initial hyperparameters, are defined above. To help with making the contour plot, a [meshgrid](https://numpy.org/doc/stable/reference/generated/numpy.meshgrid.html) has been defined along with a `Z_mesh` function that returns the decision probability or decision output for the classifier for every point in the meshgrid."
      ]
    },
    {
      "cell_type": "code",
      "execution_count": null,
      "metadata": {
        "id": "USEYZWsy9ZyI"
      },
      "outputs": [],
      "source": [
        "# write your code here\n"
      ]
    },
    {
      "cell_type": "markdown",
      "metadata": {
        "id": "iFQQrUkT9ZyI"
      },
      "source": [
        "## Wrap up\n",
        "\n",
        "- Experiments with classification trees and looking into overfitting.\n",
        "- Support Vector Machine classification was used to fit a non-linear decision boundary and overfitting was explored.\n",
        "\n",
        "### References\n",
        "- Bishop Pattern Recognition and Machine Learning: Chapter 7 for support vector machines.\n",
        "\n"
      ]
    }
  ],
  "metadata": {
    "kernelspec": {
      "display_name": "Python 3 (ipykernel)",
      "language": "python",
      "name": "python3"
    },
    "language_info": {
      "codemirror_mode": {
        "name": "ipython",
        "version": 3
      },
      "file_extension": ".py",
      "mimetype": "text/x-python",
      "name": "python",
      "nbconvert_exporter": "python",
      "pygments_lexer": "ipython3",
      "version": "3.11.5"
    },
    "colab": {
      "provenance": []
    }
  },
  "nbformat": 4,
  "nbformat_minor": 0
}